{
 "cells": [
  {
   "cell_type": "code",
   "execution_count": 1,
   "id": "laden-empty",
   "metadata": {},
   "outputs": [],
   "source": [
    "from pathlib import Path\n",
    "import urllib\n",
    "\n",
    "pwd = !pwd\n",
    "ROOT = Path(pwd[0])\n",
    "\n",
    "def vid_to_path(vid: str):\n",
    "    path = ROOT / \"data\" / vid[:1] / vid\n",
    "    if not path.exists():\n",
    "        path.mkdir(parents=True)\n",
    "    return path\n",
    "\n",
    "\n",
    "def yts_to_vid(yts: str):\n",
    "    url_data = urllib.parse.urlparse(yts)\n",
    "    query = urllib.parse.parse_qs(url_data.query)\n",
    "    vid = query[\"v\"][0]\n",
    "    return vid\n",
    "\n",
    "\n",
    "def yts_to_path(yts: str):\n",
    "    vid = yts_to_vid(yts)\n",
    "    return vid_to_path(vid)\n",
    "\n",
    "\n",
    "def vid_to_yts(vid: str):\n",
    "    return f\"https://www.youtube.com/watch?v={vid}\""
   ]
  },
  {
   "cell_type": "code",
   "execution_count": 103,
   "id": "intimate-metadata",
   "metadata": {},
   "outputs": [],
   "source": [
    "import pandas as pd\n",
    "\n",
    "targets = pd.DataFrame([{\n",
    "    'vid': x.parent.name,\n",
    "    'target': (x.parent / \"score.txt\").read_text()\n",
    "}\n",
    "    for x in ROOT.rglob('thumb.jpg')\n",
    "])\n",
    "targets.to_csv('targets.csv', index=False)"
   ]
  },
  {
   "cell_type": "markdown",
   "id": "deadly-exposure",
   "metadata": {},
   "source": [
    "Sample Solution\n",
    "\n",
    " 1. Apply a mask to the thumbnail around Melonhead himself\n",
    " 2. Extract relevant features from pixels within the mask\n",
    " 3. Train classifier, profit?"
   ]
  },
  {
   "cell_type": "code",
   "execution_count": 2,
   "id": "wanted-accordance",
   "metadata": {},
   "outputs": [],
   "source": [
    "import pandas as pd\n",
    "targets = pd.read_csv(\"targets.csv\")"
   ]
  },
  {
   "cell_type": "code",
   "execution_count": 3,
   "id": "upset-firewall",
   "metadata": {},
   "outputs": [],
   "source": [
    "# len(list(ROOT.rglob('thumb.jpg'))), len()\n",
    "\n",
    "_scores = list(map(lambda x: x.parent, list(ROOT.rglob('thumb.jpg'))))\n",
    "for f in list(ROOT.rglob('score.txt')):\n",
    "    if f.parent not in _scores:\n",
    "        shutil.rmtree(f.parent)\n"
   ]
  },
  {
   "cell_type": "code",
   "execution_count": 4,
   "id": "vanilla-pressing",
   "metadata": {},
   "outputs": [
    {
     "data": {
      "image/png": "[encoded data removed]",
      "text/plain": [
       "<Figure size 432x288 with 1 Axes>"
      ]
     },
     "metadata": {
      "needs_background": "light"
     },
     "output_type": "display_data"
    }
   ],
   "source": [
    "import numpy as np\n",
    "from matplotlib import pyplot as plt\n",
    "\n",
    "\n",
    "MASKING_SHAPE = (188, 336, 3)\n",
    "\n",
    "left = lambda pt: 3.13333 * pt[1] - 470 < -pt[0]\n",
    "right = lambda pt: 564 - 2.35 * pt[1] < -pt[0]\n",
    "horiz = lambda pt: -90 < -pt[0] \n",
    "\n",
    "\n",
    "def get_mask(shape):\n",
    "    arr = np.full(shape, False)\n",
    "    for x in range(shape[1]):\n",
    "        for y in range(shape[0]):\n",
    "            arr[y, x] = not left((y, x)) and not right((y, x)) and not horiz((y, x))\n",
    "            \n",
    "    return arr\n",
    "\n",
    "MASK = get_mask(MASKING_SHAPE[:2])\n",
    "MASK = np.asarray([MASK, MASK, MASK]).transpose((1, 2, 0))\n",
    "plt.imshow(MASK[:,:,0])\n",
    "plt.show()\n"
   ]
  },
  {
   "cell_type": "code",
   "execution_count": 5,
   "id": "impressed-brooklyn",
   "metadata": {},
   "outputs": [
    {
     "name": "stderr",
     "output_type": "stream",
     "text": [
      "100%|██████████| 2492/2492 [01:24<00:00, 29.45it/s]\n"
     ]
    }
   ],
   "source": [
    "import binascii\n",
    "import struct\n",
    "from PIL import Image\n",
    "import numpy as np\n",
    "import scipy\n",
    "import scipy.misc\n",
    "import scipy.cluster\n",
    "\n",
    "from tqdm import tqdm\n",
    "\n",
    "NUM_CLUSTERS = 5\n",
    "\n",
    "def get_colour(r, g, b):\n",
    "    \"\"\"Find a colour that is indicative of the dominant colour\"\"\"\n",
    "    ar = np.asarray([np.stack((r, g, b), axis=-1)])\n",
    "    shape = ar.shape\n",
    "    ar = ar.reshape(np.product(shape[:2]), shape[2]).astype(float)\n",
    "    codes, dist = scipy.cluster.vq.kmeans(ar, NUM_CLUSTERS)\n",
    "    vecs, dist = scipy.cluster.vq.vq(ar, codes)         # assign codes\n",
    "    counts, bins = np.histogram(vecs, len(codes))    # count occurrences\n",
    "    index_max = np.argmax(counts)                    # find most frequent\n",
    "    peak = codes[index_max]\n",
    "    r, g, b = peak\n",
    "    colour = binascii.hexlify(bytearray(int(c) for c in peak)).decode('ascii')\n",
    "    return colour, r, g, b\n",
    "\n",
    "\n",
    "def load_example(path, mask, dsfact: int = 1):\n",
    "    thumb_path = path / \"thumb.jpg\"\n",
    "    img = Image.open(thumb_path)\n",
    "    if np.array(img).shape != MASK.shape:\n",
    "        img = img.resize((MASK.shape[1], MASK.shape[0]), Image.ANTIALIAS)\n",
    "    ds_mask = mask[::dsfact, ::dsfact, :]\n",
    "    ds_img  = np.array(img)[::dsfact, ::dsfact, :]\n",
    "    features = ds_img[ds_mask]\n",
    "    r, g, b = ds_img[..., 0][ds_mask[..., 0]], ds_img[..., 1][ds_mask[..., 0]], ds_img[..., 2][ds_mask[..., 0]]\n",
    "    return np.array(img), features, path.name, (r, g, b)\n",
    "\n",
    "\n",
    "paths = list(map(vid_to_path, targets.vid))\n",
    "\n",
    "\n",
    "vids = []\n",
    "scores = []\n",
    "features = []\n",
    "rgbs = []\n",
    "colours = []\n",
    "for p in tqdm(paths):\n",
    "    img, img_features, vid, rgb = load_example(p, MASK, 3)\n",
    "    vids.append(vid)\n",
    "    features.append(img_features)\n",
    "    colour, r, g, b = get_colour(*rgb)\n",
    "    rgbs.append([*rgb])\n",
    "    colours.append(colour)\n"
   ]
  },
  {
   "cell_type": "code",
   "execution_count": 6,
   "id": "presidential-malawi",
   "metadata": {},
   "outputs": [
    {
     "name": "stderr",
     "output_type": "stream",
     "text": [
      "2492it [00:09, 252.81it/s]\n"
     ]
    }
   ],
   "source": [
    "import sklearn.preprocessing\n",
    "\n",
    "rgb_features = []\n",
    "for rgb, colour in tqdm(zip(rgbs, colours)):\n",
    "    rgb_features.append(\n",
    "        pd.Series(rgb[0]).describe().tolist()\n",
    "        + pd.Series(rgb[1]).describe().tolist()\n",
    "        + pd.Series(rgb[2]).describe().tolist()\n",
    "        + list(map(lambda x: int(x, 16), [colour[0:2], colour[2:4], colour[4:6]]))\n",
    "    )\n",
    "\n",
    "scaler = sklearn.preprocessing.StandardScaler()\n",
    "scaler.fit(rgb_features)\n",
    "rgb_features = scaler.transform(rgb_features)"
   ]
  },
  {
   "cell_type": "code",
   "execution_count": 7,
   "id": "owned-undergraduate",
   "metadata": {},
   "outputs": [
    {
     "data": {
      "text/plain": [
       "0        9\n",
       "1        7\n",
       "2        6\n",
       "3        8\n",
       "4        4\n",
       "        ..\n",
       "2487     6\n",
       "2488    10\n",
       "2489     8\n",
       "2490     0\n",
       "2491     8\n",
       "Name: target, Length: 2492, dtype: int64"
      ]
     },
     "execution_count": 7,
     "metadata": {},
     "output_type": "execute_result"
    }
   ],
   "source": [
    "target_val = targets['target'].apply(lambda x: int(x) if x.isnumeric() else (10 if x == \"CLASSIC\" else 0))\n",
    "target_val"
   ]
  },
  {
   "cell_type": "code",
   "execution_count": 8,
   "id": "postal-designation",
   "metadata": {},
   "outputs": [
    {
     "name": "stderr",
     "output_type": "stream",
     "text": [
      "[Parallel(n_jobs=8)]: Using backend ThreadingBackend with 8 concurrent workers.\n",
      "[Parallel(n_jobs=8)]: Done  34 tasks      | elapsed:    0.1s\n",
      "[Parallel(n_jobs=8)]: Done 100 out of 100 | elapsed:    0.3s finished\n",
      "[Parallel(n_jobs=8)]: Using backend ThreadingBackend with 8 concurrent workers.\n",
      "[Parallel(n_jobs=8)]: Done  34 tasks      | elapsed:    0.0s\n",
      "[Parallel(n_jobs=8)]: Done 100 out of 100 | elapsed:    0.0s finished\n"
     ]
    },
    {
     "data": {
      "text/plain": [
       "1.6914893617021276"
      ]
     },
     "execution_count": 8,
     "metadata": {},
     "output_type": "execute_result"
    }
   ],
   "source": [
    "from sklearn.model_selection import train_test_split\n",
    "\n",
    "X_train, X_test, y_train, y_test = train_test_split(\n",
    "    np.asarray(rgb_features), \n",
    "    target_val, \n",
    "    test_size=0.33, \n",
    "    random_state=42\n",
    ")\n",
    "\n",
    "from sklearn.ensemble import RandomForestRegressor\n",
    "\n",
    "regr = RandomForestRegressor(random_state=0, verbose=True, n_jobs=8)\n",
    "\n",
    "regr.fit(X_train, y_train)\n",
    "\n",
    "y_pred = regr.predict(X_test)\n",
    "\n",
    "y_test_int = pd.Series(y_test).apply(int)\n",
    "y_pred_int = pd.Series(y_pred).apply(int)\n",
    "\n",
    "average_error = np.mean(np.abs(y_test_int - y_pred_int))\n",
    "average_error\n"
   ]
  },
  {
   "cell_type": "code",
   "execution_count": 9,
   "id": "outstanding-bernard",
   "metadata": {},
   "outputs": [
    {
     "name": "stderr",
     "output_type": "stream",
     "text": [
      "[Parallel(n_jobs=8)]: Using backend ThreadingBackend with 8 concurrent workers.\n",
      "[Parallel(n_jobs=8)]: Done  34 tasks      | elapsed:    0.1s\n",
      "[Parallel(n_jobs=8)]: Done 100 out of 100 | elapsed:    0.2s finished\n",
      "[Parallel(n_jobs=8)]: Using backend ThreadingBackend with 8 concurrent workers.\n",
      "[Parallel(n_jobs=8)]: Done  34 tasks      | elapsed:    0.0s\n",
      "[Parallel(n_jobs=8)]: Done 100 out of 100 | elapsed:    0.0s finished\n"
     ]
    },
    {
     "data": {
      "text/plain": [
       "array([[12,  1,  0,  1,  1,  2,  3,  8,  1,  0,  0],\n",
       "       [ 0,  0,  0,  1,  0,  0,  0,  0,  1,  0,  0],\n",
       "       [ 0,  0,  0,  1,  1,  0,  1,  4,  2,  0,  0],\n",
       "       [ 0,  0,  0,  3,  2,  1,  8,  3,  8,  0,  0],\n",
       "       [ 1,  0,  0,  2,  9,  3,  9, 24, 14,  0,  0],\n",
       "       [ 1,  0,  0,  2,  3, 11, 39, 51, 24,  0,  0],\n",
       "       [ 2,  0,  0,  0,  4, 18, 42, 65, 25,  1,  0],\n",
       "       [ 1,  0,  0,  1,  0, 21, 43, 83, 30,  1,  2],\n",
       "       [ 1,  0,  0,  1,  2, 13, 44, 57, 65,  0,  0],\n",
       "       [ 0,  0,  0,  0,  0,  0,  3,  2, 22,  0,  0],\n",
       "       [ 0,  0,  0,  1,  0,  2,  5,  4,  4,  0,  0]])"
      ]
     },
     "execution_count": 9,
     "metadata": {},
     "output_type": "execute_result"
    }
   ],
   "source": [
    "from sklearn.ensemble import RandomForestClassifier\n",
    "from sklearn.metrics import confusion_matrix as cm\n",
    "\n",
    "regr = RandomForestClassifier(random_state=0, verbose=True, n_jobs=8, class_weight='balanced')\n",
    "\n",
    "regr.fit(X_train, y_train)\n",
    "\n",
    "y_pred = regr.predict(X_test)\n",
    "\n",
    "cm(y_test, y_pred)"
   ]
  },
  {
   "cell_type": "code",
   "execution_count": null,
   "id": "graduate-silver",
   "metadata": {},
   "outputs": [],
   "source": []
  }
 ],
 "metadata": {
  "kernelspec": {
   "display_name": "Python 3",
   "language": "python",
   "name": "python3"
  },
  "language_info": {
   "codemirror_mode": {
    "name": "ipython",
    "version": 3
   },
   "file_extension": ".py",
   "mimetype": "text/x-python",
   "name": "python",
   "nbconvert_exporter": "python",
   "pygments_lexer": "ipython3",
   "version": "3.8.8"
  }
 },
 "nbformat": 4,
 "nbformat_minor": 5
}
